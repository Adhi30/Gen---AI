{
  "nbformat": 4,
  "nbformat_minor": 0,
  "metadata": {
    "colab": {
      "provenance": []
    },
    "kernelspec": {
      "name": "python3",
      "display_name": "Python 3"
    },
    "language_info": {
      "name": "python"
    }
  },
  "cells": [
    {
      "cell_type": "code",
      "execution_count": null,
      "metadata": {
        "id": "etACTEp35HJi"
      },
      "outputs": [],
      "source": [
        "!pip install openai==0.28"
      ]
    },
    {
      "cell_type": "markdown",
      "source": [
        "**Importing Libraries**"
      ],
      "metadata": {
        "id": "fiIXxqTc5Kvx"
      }
    },
    {
      "cell_type": "code",
      "source": [
        "import openai"
      ],
      "metadata": {
        "id": "aWK0KGkT5N0T"
      },
      "execution_count": null,
      "outputs": []
    },
    {
      "cell_type": "markdown",
      "source": [
        "**Configuring OpenAi Key**"
      ],
      "metadata": {
        "id": "enk7u5av5QpO"
      }
    },
    {
      "cell_type": "code",
      "source": [
        "openai.api_key = \"OpenAi KEY\""
      ],
      "metadata": {
        "id": "EUshKhmP5UVG"
      },
      "execution_count": null,
      "outputs": []
    },
    {
      "cell_type": "markdown",
      "source": [
        "**Chat Completion**"
      ],
      "metadata": {
        "id": "ZxEgERcR5ct5"
      }
    },
    {
      "cell_type": "code",
      "source": [
        "response = openai.chat.completions.create{\n",
        "    model=\"gpt-4o\",\n",
        "    messages={\n",
        "        {\"role\": \"system\", \"content\": \"You are a helpful assistant. \"},\n",
        "        {\"role\": \"user\", \"content\": \"Who won the world series in 2020?\"},\n",
        "        {\"role\": \"assistant\", \"content\": \"The Los Angeles Dodgers won the world series in 2020\"},\n",
        "        {\"role\": \"user\", \"content\": \"Where was it played?\"}\n",
        "    }\n",
        "}"
      ],
      "metadata": {
        "id": "6iI163_e5e26"
      },
      "execution_count": null,
      "outputs": []
    },
    {
      "cell_type": "code",
      "source": [
        "print(response.choices[0].message.content)"
      ],
      "metadata": {
        "id": "rBmZdaDp5pDx"
      },
      "execution_count": null,
      "outputs": []
    },
    {
      "cell_type": "code",
      "source": [
        "response.choices[0].message.content"
      ],
      "metadata": {
        "id": "e4rBZO-a60PX"
      },
      "execution_count": null,
      "outputs": []
    },
    {
      "cell_type": "markdown",
      "source": [
        "**Image Processing**"
      ],
      "metadata": {
        "id": "KKv06yJu69de"
      }
    },
    {
      "cell_type": "code",
      "source": [
        "# multi model input\n",
        "\n",
        "response = openai.chat.completions.create{\n",
        "    model=\"gpt-4o\",\n",
        "    messages={\n",
        "        {\"role\": \"system\", \"content\": \"You are a helpful assistant. \"},\n",
        "        {\n",
        "            \"role\": \"user\",\n",
        "            \"content\":{\n",
        "                {\"type\": \"text\", \"text\": \"What is in this image\"},\n",
        "                {\n",
        "                    \"type\" : \"image url\",\n",
        "                  \"image url\": {\n",
        "                      \"url\": \"Enter your Image url\",\n",
        "                  },\n",
        "                },\n",
        "          },\n",
        "\n",
        "        },\n",
        "    },\n",
        "    max_tokens=300\n",
        "}\n"
      ],
      "metadata": {
        "id": "pBVklsDQ7GEp"
      },
      "execution_count": null,
      "outputs": []
    },
    {
      "cell_type": "code",
      "source": [
        "print(response.choices[0].message.content)"
      ],
      "metadata": {
        "id": "pdU9TEQD-EiU"
      },
      "execution_count": null,
      "outputs": []
    }
  ]
}